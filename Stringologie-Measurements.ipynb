{
 "metadata": {
  "name": "",
  "signature": "sha256:096632ce0cc114995dc797d6d0a98d0737474d11ef31ce6bb7345cb761950e5a"
 },
 "nbformat": 3,
 "nbformat_minor": 0,
 "worksheets": [
  {
   "cells": [
    {
     "cell_type": "markdown",
     "metadata": {},
     "source": [
      "# Runtime measurements for some string matching algorithms"
     ]
    },
    {
     "cell_type": "code",
     "collapsed": false,
     "input": [
      "import sys\n",
      "import os.path\n",
      "\n",
      "root = '/home/andreas/personal/dev/python/stringologie-ss14'\n",
      "sys.path.append(root)\n",
      "\n",
      "from stringmatching import stringmatching as sm\n",
      "\n",
      "algs = sm.Algorithms"
     ],
     "language": "python",
     "metadata": {},
     "outputs": [],
     "prompt_number": 16
    },
    {
     "cell_type": "code",
     "collapsed": true,
     "input": [
      "pass"
     ],
     "language": "python",
     "metadata": {},
     "outputs": [],
     "prompt_number": 21
    },
    {
     "cell_type": "code",
     "collapsed": false,
     "input": [],
     "language": "python",
     "metadata": {},
     "outputs": []
    }
   ],
   "metadata": {}
  }
 ]
}