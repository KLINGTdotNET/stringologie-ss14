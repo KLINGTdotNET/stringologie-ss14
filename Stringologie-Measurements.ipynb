{
 "metadata": {
  "name": "",
  "signature": "sha256:ef01dcb04d105506b52d7ff6946558a8e4c28ebacb63dd2be7b45231203122d0"
 },
 "nbformat": 3,
 "nbformat_minor": 0,
 "worksheets": [
  {
   "cells": [
    {
     "cell_type": "markdown",
     "metadata": {},
     "source": [
      "# Runtime measurements for some string matching algorithms"
     ]
    },
    {
     "cell_type": "code",
     "collapsed": false,
     "input": [
      "import sys\n",
      "import os.path\n",
      "import time    # used for measurements\n",
      "from matplotlib import pyplot as plt\n",
      "import numpy as np\n",
      "\n",
      "root = '/home/andreas/personal/dev/python/stringologie-ss14'\n",
      "sys.path.append(root)\n",
      "\n",
      "from stringmatching import stringmatching as sm\n",
      "\n",
      "algs = sm.Algorithms"
     ],
     "language": "python",
     "metadata": {},
     "outputs": [],
     "prompt_number": 4
    },
    {
     "cell_type": "code",
     "collapsed": false,
     "input": [
      "# render matplotlib plots directly into the notebook\n",
      "%matplotlib inline"
     ],
     "language": "python",
     "metadata": {},
     "outputs": [],
     "prompt_number": 5
    },
    {
     "cell_type": "code",
     "collapsed": false,
     "input": [
      "for alg in algs:\n",
      "    print(alg.name)"
     ],
     "language": "python",
     "metadata": {},
     "outputs": [
      {
       "output_type": "stream",
       "stream": "stdout",
       "text": [
        "naive\n",
        "last_occ\n",
        "morris_pratt\n",
        "knuth_morris_pratt\n",
        "boyer_moore\n",
        "tobias_kmp\n",
        "tobias_bm\n",
        "tobias_bmg\n"
       ]
      }
     ],
     "prompt_number": 6
    },
    {
     "cell_type": "code",
     "collapsed": true,
     "input": [
      "text = ''\n",
      "with open(os.path.join(root, 'resources/pi_1million.txt'), 'r') as f:\n",
      "    text = f.read()\n",
      "    \n",
      "pattern = '9529081197139256765089770918338138516867176390702131969107199123500774303145958784697786363208486985'\n",
      "len(pattern)\n",
      "\n",
      "measurements = {}\n",
      "for alg in algs:\n",
      "    if alg is not algs.boyer_moore:\n",
      "        min_len = 3\n",
      "        measurements[alg.name] = {}\n",
      "        for r in range(8):\n",
      "            pat_len = min_len + 2**r\n",
      "            measurements[alg.name][pat_len] = {\n",
      "                'min': sys.maxsize,\n",
      "                'max': 0,\n",
      "                'avg': sys.maxsize,\n",
      "            }\n",
      "            t = []\n",
      "            print('Measuring time for \"{}\" with pattern length {}'.format(alg.name, pat_len))\n",
      "            for _ in range(10):\n",
      "                start_time = time.perf_counter()\n",
      "                sm.search(pattern[:pat_len], text, alg, False)\n",
      "                end_time = time.perf_counter()\n",
      "                duration = end_time - start_time\n",
      "                t.append(duration)\n",
      "            measurements[alg.name][pat_len]['min'] = min(t)\n",
      "            measurements[alg.name][pat_len]['max'] = max(t)\n",
      "            avg = sum(t)/len(t)\n",
      "            measurements[alg.name][pat_len]['avg'] = avg\n",
      "            measurements[alg.name][pat_len]['std'] = sum([ (_ - avg)**2 for _ in t ])"
     ],
     "language": "python",
     "metadata": {},
     "outputs": [
      {
       "output_type": "stream",
       "stream": "stdout",
       "text": [
        "Measuring time for \"naive\" with pattern length 4\n",
        "Measuring time for \"naive\" with pattern length 5"
       ]
      },
      {
       "output_type": "stream",
       "stream": "stdout",
       "text": [
        "\n",
        "Measuring time for \"naive\" with pattern length 7"
       ]
      },
      {
       "output_type": "stream",
       "stream": "stdout",
       "text": [
        "\n",
        "Measuring time for \"naive\" with pattern length 11"
       ]
      },
      {
       "output_type": "stream",
       "stream": "stdout",
       "text": [
        "\n",
        "Measuring time for \"naive\" with pattern length 19"
       ]
      },
      {
       "output_type": "stream",
       "stream": "stdout",
       "text": [
        "\n",
        "Measuring time for \"naive\" with pattern length 35"
       ]
      },
      {
       "output_type": "stream",
       "stream": "stdout",
       "text": [
        "\n",
        "Measuring time for \"naive\" with pattern length 67"
       ]
      },
      {
       "output_type": "stream",
       "stream": "stdout",
       "text": [
        "\n",
        "Measuring time for \"naive\" with pattern length 131"
       ]
      },
      {
       "output_type": "stream",
       "stream": "stdout",
       "text": [
        "\n",
        "Measuring time for \"last_occ\" with pattern length 4"
       ]
      },
      {
       "output_type": "stream",
       "stream": "stdout",
       "text": [
        "\n",
        "Measuring time for \"last_occ\" with pattern length 5\n",
        "Measuring time for \"last_occ\" with pattern length 7"
       ]
      },
      {
       "output_type": "stream",
       "stream": "stdout",
       "text": [
        "\n",
        "Measuring time for \"last_occ\" with pattern length 11"
       ]
      },
      {
       "output_type": "stream",
       "stream": "stdout",
       "text": [
        "\n",
        "Measuring time for \"last_occ\" with pattern length 19"
       ]
      },
      {
       "output_type": "stream",
       "stream": "stdout",
       "text": [
        "\n",
        "Measuring time for \"last_occ\" with pattern length 35"
       ]
      },
      {
       "output_type": "stream",
       "stream": "stdout",
       "text": [
        "\n",
        "Measuring time for \"last_occ\" with pattern length 67"
       ]
      },
      {
       "output_type": "stream",
       "stream": "stdout",
       "text": [
        "\n",
        "Measuring time for \"last_occ\" with pattern length 131"
       ]
      },
      {
       "output_type": "stream",
       "stream": "stdout",
       "text": [
        "\n",
        "Measuring time for \"morris_pratt\" with pattern length 4"
       ]
      },
      {
       "output_type": "stream",
       "stream": "stdout",
       "text": [
        "\n",
        "Measuring time for \"morris_pratt\" with pattern length 5"
       ]
      },
      {
       "output_type": "stream",
       "stream": "stdout",
       "text": [
        "\n",
        "Measuring time for \"morris_pratt\" with pattern length 7"
       ]
      },
      {
       "output_type": "stream",
       "stream": "stdout",
       "text": [
        "\n",
        "Measuring time for \"morris_pratt\" with pattern length 11"
       ]
      },
      {
       "output_type": "stream",
       "stream": "stdout",
       "text": [
        "\n",
        "Measuring time for \"morris_pratt\" with pattern length 19"
       ]
      },
      {
       "output_type": "stream",
       "stream": "stdout",
       "text": [
        "\n",
        "Measuring time for \"morris_pratt\" with pattern length 35"
       ]
      },
      {
       "output_type": "stream",
       "stream": "stdout",
       "text": [
        "\n",
        "Measuring time for \"morris_pratt\" with pattern length 67"
       ]
      },
      {
       "output_type": "stream",
       "stream": "stdout",
       "text": [
        "\n",
        "Measuring time for \"morris_pratt\" with pattern length 131"
       ]
      },
      {
       "output_type": "stream",
       "stream": "stdout",
       "text": [
        "\n",
        "Measuring time for \"knuth_morris_pratt\" with pattern length 4"
       ]
      },
      {
       "output_type": "stream",
       "stream": "stdout",
       "text": [
        "\n",
        "Measuring time for \"knuth_morris_pratt\" with pattern length 5"
       ]
      },
      {
       "output_type": "stream",
       "stream": "stdout",
       "text": [
        "\n",
        "Measuring time for \"knuth_morris_pratt\" with pattern length 7"
       ]
      },
      {
       "output_type": "stream",
       "stream": "stdout",
       "text": [
        "\n",
        "Measuring time for \"knuth_morris_pratt\" with pattern length 11"
       ]
      },
      {
       "output_type": "stream",
       "stream": "stdout",
       "text": [
        "\n",
        "Measuring time for \"knuth_morris_pratt\" with pattern length 19"
       ]
      },
      {
       "output_type": "stream",
       "stream": "stdout",
       "text": [
        "\n",
        "Measuring time for \"knuth_morris_pratt\" with pattern length 35"
       ]
      },
      {
       "output_type": "stream",
       "stream": "stdout",
       "text": [
        "\n",
        "Measuring time for \"knuth_morris_pratt\" with pattern length 67"
       ]
      },
      {
       "output_type": "stream",
       "stream": "stdout",
       "text": [
        "\n",
        "Measuring time for \"knuth_morris_pratt\" with pattern length 131"
       ]
      },
      {
       "output_type": "stream",
       "stream": "stdout",
       "text": [
        "\n",
        "Measuring time for \"tobias_kmp\" with pattern length 4"
       ]
      },
      {
       "output_type": "stream",
       "stream": "stdout",
       "text": [
        "\n",
        "Measuring time for \"tobias_kmp\" with pattern length 5"
       ]
      },
      {
       "output_type": "stream",
       "stream": "stdout",
       "text": [
        "\n",
        "Measuring time for \"tobias_kmp\" with pattern length 7"
       ]
      },
      {
       "output_type": "stream",
       "stream": "stdout",
       "text": [
        "\n",
        "Measuring time for \"tobias_kmp\" with pattern length 11"
       ]
      },
      {
       "output_type": "stream",
       "stream": "stdout",
       "text": [
        "\n",
        "Measuring time for \"tobias_kmp\" with pattern length 19"
       ]
      },
      {
       "output_type": "stream",
       "stream": "stdout",
       "text": [
        "\n",
        "Measuring time for \"tobias_kmp\" with pattern length 35"
       ]
      },
      {
       "output_type": "stream",
       "stream": "stdout",
       "text": [
        "\n",
        "Measuring time for \"tobias_kmp\" with pattern length 67"
       ]
      },
      {
       "output_type": "stream",
       "stream": "stdout",
       "text": [
        "\n",
        "Measuring time for \"tobias_kmp\" with pattern length 131"
       ]
      },
      {
       "output_type": "stream",
       "stream": "stdout",
       "text": [
        "\n",
        "Measuring time for \"tobias_bm\" with pattern length 4"
       ]
      },
      {
       "output_type": "stream",
       "stream": "stdout",
       "text": [
        "\n",
        "Measuring time for \"tobias_bm\" with pattern length 5\n",
        "Measuring time for \"tobias_bm\" with pattern length 7"
       ]
      },
      {
       "output_type": "stream",
       "stream": "stdout",
       "text": [
        "\n",
        "Measuring time for \"tobias_bm\" with pattern length 11"
       ]
      },
      {
       "output_type": "stream",
       "stream": "stdout",
       "text": [
        "\n",
        "Measuring time for \"tobias_bm\" with pattern length 19"
       ]
      },
      {
       "output_type": "stream",
       "stream": "stdout",
       "text": [
        "\n",
        "Measuring time for \"tobias_bm\" with pattern length 35"
       ]
      },
      {
       "output_type": "stream",
       "stream": "stdout",
       "text": [
        "\n",
        "Measuring time for \"tobias_bm\" with pattern length 67"
       ]
      },
      {
       "output_type": "stream",
       "stream": "stdout",
       "text": [
        "\n",
        "Measuring time for \"tobias_bm\" with pattern length 131"
       ]
      },
      {
       "output_type": "stream",
       "stream": "stdout",
       "text": [
        "\n",
        "Measuring time for \"tobias_bmg\" with pattern length 4"
       ]
      },
      {
       "output_type": "stream",
       "stream": "stdout",
       "text": [
        "\n",
        "Measuring time for \"tobias_bmg\" with pattern length 5"
       ]
      },
      {
       "output_type": "stream",
       "stream": "stdout",
       "text": [
        "\n",
        "Measuring time for \"tobias_bmg\" with pattern length 7"
       ]
      },
      {
       "output_type": "stream",
       "stream": "stdout",
       "text": [
        "\n",
        "Measuring time for \"tobias_bmg\" with pattern length 11"
       ]
      },
      {
       "output_type": "stream",
       "stream": "stdout",
       "text": [
        "\n",
        "Measuring time for \"tobias_bmg\" with pattern length 19"
       ]
      },
      {
       "output_type": "stream",
       "stream": "stdout",
       "text": [
        "\n",
        "Measuring time for \"tobias_bmg\" with pattern length 35"
       ]
      },
      {
       "output_type": "stream",
       "stream": "stdout",
       "text": [
        "\n",
        "Measuring time for \"tobias_bmg\" with pattern length 67"
       ]
      },
      {
       "output_type": "stream",
       "stream": "stdout",
       "text": [
        "\n",
        "Measuring time for \"tobias_bmg\" with pattern length 131"
       ]
      },
      {
       "output_type": "stream",
       "stream": "stdout",
       "text": [
        "\n"
       ]
      }
     ],
     "prompt_number": 7
    },
    {
     "cell_type": "code",
     "collapsed": false,
     "input": [
      "print('Average search times for different algorithms in considering different pattern lengths')\n",
      "m = measurements\n",
      "N = len(m['naive'])\n",
      "ind = np.arange(N)\n",
      "width = 1/len(m)\n",
      "bars =  []\n",
      "colors = ['r','g','b','y', 'm', 'c', 'b']\n",
      "i = 0\n",
      "bars = []\n",
      "for alg in m:\n",
      "    avg = []\n",
      "    std = []\n",
      "    for pat_len in m[alg]:\n",
      "        avg.append(m[alg][pat_len]['avg']*1000)\n",
      "        std.append(m[alg][pat_len]['std']*1000)\n",
      "    bars.append(plt.bar(ind+i*width, tuple(avg), width, yerr=tuple(std), color=colors[i]))\n",
      "    plt.ylabel('milliseconds')\n",
      "    plt.xlabel('pattern length')\n",
      "    plt.xticks(ind+width/2., [ _ for _ in m['naive'] ] )\n",
      "    i+=1\n",
      "plt.legend(bars, [ _ for _ in m ], fontsize='xx-small', fancybox=True, shadow=True)\n",
      "plt.show()"
     ],
     "language": "python",
     "metadata": {},
     "outputs": [
      {
       "output_type": "stream",
       "stream": "stdout",
       "text": [
        "Average search times for different algorithms in considering different pattern lengths\n"
       ]
      },
      {
       "metadata": {},
       "output_type": "display_data",
       "png": "[encoded data removed]",
       "text": [
        "<matplotlib.figure.Figure at 0x7f6350ea1278>"
       ]
      }
     ],
     "prompt_number": 8
    },
    {
     "cell_type": "code",
     "collapsed": false,
     "input": [],
     "language": "python",
     "metadata": {},
     "outputs": [],
     "prompt_number": 8
    }
   ],
   "metadata": {}
  }
 ]
}