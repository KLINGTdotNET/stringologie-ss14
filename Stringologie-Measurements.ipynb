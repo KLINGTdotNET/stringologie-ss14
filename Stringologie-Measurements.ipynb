{
 "metadata": {
  "name": "",
  "signature": "sha256:ab0f4478b8fdda06e5e5f452e3a4b9ad61d8d11d2267546859f32221c495ab9a"
 },
 "nbformat": 3,
 "nbformat_minor": 0,
 "worksheets": [
  {
   "cells": [
    {
     "cell_type": "markdown",
     "metadata": {},
     "source": [
      "# Runtime measurements for some string matching algorithms"
     ]
    },
    {
     "cell_type": "code",
     "collapsed": false,
     "input": [
      "import sys\n",
      "import os.path\n",
      "import time    # used for measurements\n",
      "from matplotlib import pyplot as plt\n",
      "from matplotlib import cm\n",
      "import numpy as np\n",
      "from random import sample\n",
      "\n",
      "root = '/home/andreas/personal/dev/python/stringologie-ss14'\n",
      "sys.path.append(root)\n",
      "\n",
      "from stringmatching import stringmatching as sm\n",
      "\n",
      "algs = sm.Algorithms"
     ],
     "language": "python",
     "metadata": {},
     "outputs": [],
     "prompt_number": 21
    },
    {
     "cell_type": "code",
     "collapsed": false,
     "input": [
      "# render matplotlib plots directly into the notebook\n",
      "%matplotlib inline"
     ],
     "language": "python",
     "metadata": {},
     "outputs": [],
     "prompt_number": 22
    },
    {
     "cell_type": "markdown",
     "metadata": {},
     "source": [
      "## Time measurement for pattern search in million digits of \u03c0"
     ]
    },
    {
     "cell_type": "code",
     "collapsed": true,
     "input": [
      "text = ''\n",
      "with open(os.path.join(root, 'resources/pi_1million.txt'), 'r') as f:\n",
      "    text = f.read()\n",
      "    \n",
      "pattern = '9529081197139256765089770918338138516867176390702131969107199123500774303145958784697786363208486985'\n",
      "len(pattern)\n",
      "passes = 10\n",
      "\n",
      "measurements = {}\n",
      "for alg in algs:\n",
      "    if alg is not algs.boyer_moore:\n",
      "        min_len = 3\n",
      "        measurements[alg.name] = {}\n",
      "        for r in range(8):\n",
      "            pat_len = min_len + 2**r\n",
      "            measurements[alg.name][pat_len] = {\n",
      "                'min': sys.maxsize,\n",
      "                'max': 0,\n",
      "                'avg': sys.maxsize,\n",
      "            }\n",
      "            t = []\n",
      "            print('Measuring time for \"{}\" with pattern length {}'.format(alg.name, pat_len))\n",
      "            for _ in range(passes):\n",
      "                start_time = time.perf_counter()\n",
      "                sm.search(pattern[:pat_len], text, alg, True)\n",
      "                end_time = time.perf_counter()\n",
      "                duration = end_time - start_time\n",
      "                t.append(duration)\n",
      "            measurements[alg.name][pat_len]['min'] = min(t)\n",
      "            measurements[alg.name][pat_len]['max'] = max(t)\n",
      "            avg = sum(t)/len(t)\n",
      "            measurements[alg.name][pat_len]['avg'] = avg\n",
      "            measurements[alg.name][pat_len]['std'] = sum([ (_ - avg)**2 for _ in t ])"
     ],
     "language": "python",
     "metadata": {},
     "outputs": [
      {
       "output_type": "stream",
       "stream": "stdout",
       "text": [
        "Measuring time for \"naive\" with pattern length 4\n",
        "Measuring time for \"naive\" with pattern length 5"
       ]
      },
      {
       "output_type": "stream",
       "stream": "stdout",
       "text": [
        "\n",
        "Measuring time for \"naive\" with pattern length 7"
       ]
      },
      {
       "output_type": "stream",
       "stream": "stdout",
       "text": [
        "\n",
        "Measuring time for \"naive\" with pattern length 11"
       ]
      },
      {
       "output_type": "stream",
       "stream": "stdout",
       "text": [
        "\n",
        "Measuring time for \"naive\" with pattern length 19"
       ]
      },
      {
       "output_type": "stream",
       "stream": "stdout",
       "text": [
        "\n",
        "Measuring time for \"naive\" with pattern length 35"
       ]
      },
      {
       "output_type": "stream",
       "stream": "stdout",
       "text": [
        "\n",
        "Measuring time for \"naive\" with pattern length 67"
       ]
      },
      {
       "output_type": "stream",
       "stream": "stdout",
       "text": [
        "\n",
        "Measuring time for \"naive\" with pattern length 131"
       ]
      },
      {
       "output_type": "stream",
       "stream": "stdout",
       "text": [
        "\n",
        "Measuring time for \"last_occ\" with pattern length 4"
       ]
      },
      {
       "output_type": "stream",
       "stream": "stdout",
       "text": [
        "\n",
        "Measuring time for \"last_occ\" with pattern length 5"
       ]
      },
      {
       "output_type": "stream",
       "stream": "stdout",
       "text": [
        "\n",
        "Measuring time for \"last_occ\" with pattern length 7"
       ]
      },
      {
       "output_type": "stream",
       "stream": "stdout",
       "text": [
        "\n",
        "Measuring time for \"last_occ\" with pattern length 11"
       ]
      },
      {
       "output_type": "stream",
       "stream": "stdout",
       "text": [
        "\n",
        "Measuring time for \"last_occ\" with pattern length 19"
       ]
      },
      {
       "output_type": "stream",
       "stream": "stdout",
       "text": [
        "\n",
        "Measuring time for \"last_occ\" with pattern length 35"
       ]
      },
      {
       "output_type": "stream",
       "stream": "stdout",
       "text": [
        "\n",
        "Measuring time for \"last_occ\" with pattern length 67"
       ]
      },
      {
       "output_type": "stream",
       "stream": "stdout",
       "text": [
        "\n",
        "Measuring time for \"last_occ\" with pattern length 131"
       ]
      },
      {
       "output_type": "stream",
       "stream": "stdout",
       "text": [
        "\n",
        "Measuring time for \"morris_pratt\" with pattern length 4"
       ]
      },
      {
       "output_type": "stream",
       "stream": "stdout",
       "text": [
        "\n",
        "Measuring time for \"morris_pratt\" with pattern length 5"
       ]
      },
      {
       "output_type": "stream",
       "stream": "stdout",
       "text": [
        "\n",
        "Measuring time for \"morris_pratt\" with pattern length 7"
       ]
      },
      {
       "output_type": "stream",
       "stream": "stdout",
       "text": [
        "\n",
        "Measuring time for \"morris_pratt\" with pattern length 11"
       ]
      },
      {
       "output_type": "stream",
       "stream": "stdout",
       "text": [
        "\n",
        "Measuring time for \"morris_pratt\" with pattern length 19"
       ]
      },
      {
       "output_type": "stream",
       "stream": "stdout",
       "text": [
        "\n",
        "Measuring time for \"morris_pratt\" with pattern length 35"
       ]
      },
      {
       "output_type": "stream",
       "stream": "stdout",
       "text": [
        "\n",
        "Measuring time for \"morris_pratt\" with pattern length 67"
       ]
      },
      {
       "output_type": "stream",
       "stream": "stdout",
       "text": [
        "\n",
        "Measuring time for \"morris_pratt\" with pattern length 131"
       ]
      },
      {
       "output_type": "stream",
       "stream": "stdout",
       "text": [
        "\n",
        "Measuring time for \"knuth_morris_pratt\" with pattern length 4"
       ]
      },
      {
       "output_type": "stream",
       "stream": "stdout",
       "text": [
        "\n",
        "Measuring time for \"knuth_morris_pratt\" with pattern length 5"
       ]
      },
      {
       "output_type": "stream",
       "stream": "stdout",
       "text": [
        "\n",
        "Measuring time for \"knuth_morris_pratt\" with pattern length 7"
       ]
      },
      {
       "output_type": "stream",
       "stream": "stdout",
       "text": [
        "\n",
        "Measuring time for \"knuth_morris_pratt\" with pattern length 11"
       ]
      },
      {
       "output_type": "stream",
       "stream": "stdout",
       "text": [
        "\n",
        "Measuring time for \"knuth_morris_pratt\" with pattern length 19"
       ]
      },
      {
       "output_type": "stream",
       "stream": "stdout",
       "text": [
        "\n",
        "Measuring time for \"knuth_morris_pratt\" with pattern length 35"
       ]
      },
      {
       "output_type": "stream",
       "stream": "stdout",
       "text": [
        "\n",
        "Measuring time for \"knuth_morris_pratt\" with pattern length 67"
       ]
      },
      {
       "output_type": "stream",
       "stream": "stdout",
       "text": [
        "\n",
        "Measuring time for \"knuth_morris_pratt\" with pattern length 131"
       ]
      },
      {
       "output_type": "stream",
       "stream": "stdout",
       "text": [
        "\n",
        "Measuring time for \"tobias_kmp\" with pattern length 4"
       ]
      },
      {
       "output_type": "stream",
       "stream": "stdout",
       "text": [
        "\n",
        "Measuring time for \"tobias_kmp\" with pattern length 5"
       ]
      },
      {
       "output_type": "stream",
       "stream": "stdout",
       "text": [
        "\n",
        "Measuring time for \"tobias_kmp\" with pattern length 7"
       ]
      },
      {
       "output_type": "stream",
       "stream": "stdout",
       "text": [
        "\n",
        "Measuring time for \"tobias_kmp\" with pattern length 11"
       ]
      },
      {
       "output_type": "stream",
       "stream": "stdout",
       "text": [
        "\n",
        "Measuring time for \"tobias_kmp\" with pattern length 19"
       ]
      },
      {
       "output_type": "stream",
       "stream": "stdout",
       "text": [
        "\n",
        "Measuring time for \"tobias_kmp\" with pattern length 35"
       ]
      },
      {
       "output_type": "stream",
       "stream": "stdout",
       "text": [
        "\n",
        "Measuring time for \"tobias_kmp\" with pattern length 67"
       ]
      },
      {
       "output_type": "stream",
       "stream": "stdout",
       "text": [
        "\n",
        "Measuring time for \"tobias_kmp\" with pattern length 131"
       ]
      },
      {
       "output_type": "stream",
       "stream": "stdout",
       "text": [
        "\n",
        "Measuring time for \"tobias_bm\" with pattern length 4"
       ]
      },
      {
       "output_type": "stream",
       "stream": "stdout",
       "text": [
        "\n",
        "Measuring time for \"tobias_bm\" with pattern length 5"
       ]
      },
      {
       "output_type": "stream",
       "stream": "stdout",
       "text": [
        "\n",
        "Measuring time for \"tobias_bm\" with pattern length 7"
       ]
      },
      {
       "output_type": "stream",
       "stream": "stdout",
       "text": [
        "\n",
        "Measuring time for \"tobias_bm\" with pattern length 11"
       ]
      },
      {
       "output_type": "stream",
       "stream": "stdout",
       "text": [
        "\n",
        "Measuring time for \"tobias_bm\" with pattern length 19"
       ]
      },
      {
       "output_type": "stream",
       "stream": "stdout",
       "text": [
        "\n",
        "Measuring time for \"tobias_bm\" with pattern length 35"
       ]
      },
      {
       "output_type": "stream",
       "stream": "stdout",
       "text": [
        "\n",
        "Measuring time for \"tobias_bm\" with pattern length 67"
       ]
      },
      {
       "output_type": "stream",
       "stream": "stdout",
       "text": [
        "\n",
        "Measuring time for \"tobias_bm\" with pattern length 131"
       ]
      },
      {
       "output_type": "stream",
       "stream": "stdout",
       "text": [
        "\n",
        "Measuring time for \"tobias_bmg\" with pattern length 4"
       ]
      },
      {
       "output_type": "stream",
       "stream": "stdout",
       "text": [
        "\n",
        "Measuring time for \"tobias_bmg\" with pattern length 5"
       ]
      },
      {
       "output_type": "stream",
       "stream": "stdout",
       "text": [
        "\n",
        "Measuring time for \"tobias_bmg\" with pattern length 7"
       ]
      },
      {
       "output_type": "stream",
       "stream": "stdout",
       "text": [
        "\n",
        "Measuring time for \"tobias_bmg\" with pattern length 11"
       ]
      },
      {
       "output_type": "stream",
       "stream": "stdout",
       "text": [
        "\n",
        "Measuring time for \"tobias_bmg\" with pattern length 19"
       ]
      },
      {
       "output_type": "stream",
       "stream": "stdout",
       "text": [
        "\n",
        "Measuring time for \"tobias_bmg\" with pattern length 35"
       ]
      },
      {
       "output_type": "stream",
       "stream": "stdout",
       "text": [
        "\n",
        "Measuring time for \"tobias_bmg\" with pattern length 67"
       ]
      },
      {
       "output_type": "stream",
       "stream": "stdout",
       "text": [
        "\n",
        "Measuring time for \"tobias_bmg\" with pattern length 131"
       ]
      },
      {
       "output_type": "stream",
       "stream": "stdout",
       "text": [
        "\n"
       ]
      }
     ],
     "prompt_number": 23
    },
    {
     "cell_type": "code",
     "collapsed": false,
     "input": [
      "m = measurements\n",
      "N = len(m['naive'])\n",
      "ind = np.arange(N)\n",
      "width = 1/len(m)\n",
      "bars =  []\n",
      "i = 0\n",
      "bars = []\n",
      "for alg in m:\n",
      "    avg = []\n",
      "    std = []\n",
      "    pat_lengths = [ _ for _ in m[alg] ]\n",
      "    pat_lengths.sort()\n",
      "    for pat_len in pat_lengths:\n",
      "        avg.append(m[alg][pat_len]['avg']*1000)\n",
      "        std.append(m[alg][pat_len]['std']*1000)\n",
      "    bars.append(plt.bar(ind+i*width, tuple(avg), width, yerr=tuple(std), color=cm.Set1(i/N, 1)))\n",
      "    plt.ylabel('milliseconds')\n",
      "    plt.xlabel('pattern length')\n",
      "    plt.xticks(ind+width/2., pat_lengths )\n",
      "    i+=1\n",
      "plt.legend(bars, [ _ for _ in m ], fontsize='xx-small', fancybox=True, shadow=True)\n",
      "plt.show()"
     ],
     "language": "python",
     "metadata": {},
     "outputs": [
      {
       "metadata": {},
       "output_type": "display_data",
       "png": "[encoded data removed]",
       "text": [
        "<matplotlib.figure.Figure at 0x7f52a4114940>"
       ]
      }
     ],
     "prompt_number": 24
    },
    {
     "cell_type": "markdown",
     "metadata": {},
     "source": [
      "## Time measurement for pattern serach in a big text file containing natural language"
     ]
    },
    {
     "cell_type": "code",
     "collapsed": false,
     "input": [
      "text = ''\n",
      "with open(os.path.join(root, 'resources/big.txt'), 'r') as f:\n",
      "    text = f.read()"
     ],
     "language": "python",
     "metadata": {},
     "outputs": [],
     "prompt_number": 25
    },
    {
     "cell_type": "code",
     "collapsed": false,
     "input": [
      "# prepare patterns\n",
      "splits = sorted([ (len(x), x) for x in text.split() ])\n",
      "patterns = {}\n",
      "passes = 5\n",
      "for length in range(4, 3**3+1, 3):\n",
      "    patterns[length] = sample(set([ y for (_,y) in splits if _ == length ]), passes)"
     ],
     "language": "python",
     "metadata": {},
     "outputs": [],
     "prompt_number": 26
    },
    {
     "cell_type": "code",
     "collapsed": false,
     "input": [
      "measurements = {}\n",
      "for alg in algs:\n",
      "    if alg is not algs.boyer_moore:\n",
      "        min_len = 3\n",
      "        measurements[alg.name] = {}\n",
      "        for pat_len in sorted( _ for _ in patterns ):\n",
      "            measurements[alg.name][pat_len] = {\n",
      "                'min': sys.maxsize,\n",
      "                'max': 0,\n",
      "                'avg': sys.maxsize,\n",
      "            }\n",
      "            t = []\n",
      "            print('Measuring time for \"{}\" with pattern length {}'.format(alg.name, pat_len))\n",
      "            # get some random patterns (all of them would use way too much time)\n",
      "            for pattern in patterns[pat_len]:\n",
      "                start_time = time.perf_counter()\n",
      "                sm.search(pattern, text, alg, True)\n",
      "                end_time = time.perf_counter()\n",
      "                duration = end_time - start_time\n",
      "                t.append(duration)\n",
      "            measurements[alg.name][pat_len]['min'] = min(t)\n",
      "            measurements[alg.name][pat_len]['max'] = max(t)\n",
      "            avg = sum(t)/len(t)\n",
      "            measurements[alg.name][pat_len]['avg'] = avg\n",
      "            measurements[alg.name][pat_len]['std'] = sum([ (_ - avg)**2 for _ in t ])"
     ],
     "language": "python",
     "metadata": {},
     "outputs": [
      {
       "output_type": "stream",
       "stream": "stdout",
       "text": [
        "Measuring time for \"naive\" with pattern length 4\n",
        "Measuring time for \"naive\" with pattern length 7"
       ]
      },
      {
       "output_type": "stream",
       "stream": "stdout",
       "text": [
        "\n",
        "Measuring time for \"naive\" with pattern length 10"
       ]
      },
      {
       "output_type": "stream",
       "stream": "stdout",
       "text": [
        "\n",
        "Measuring time for \"naive\" with pattern length 13"
       ]
      },
      {
       "output_type": "stream",
       "stream": "stdout",
       "text": [
        "\n",
        "Measuring time for \"naive\" with pattern length 16"
       ]
      },
      {
       "output_type": "stream",
       "stream": "stdout",
       "text": [
        "\n",
        "Measuring time for \"naive\" with pattern length 19"
       ]
      },
      {
       "output_type": "stream",
       "stream": "stdout",
       "text": [
        "\n",
        "Measuring time for \"naive\" with pattern length 22"
       ]
      },
      {
       "output_type": "stream",
       "stream": "stdout",
       "text": [
        "\n",
        "Measuring time for \"naive\" with pattern length 25"
       ]
      },
      {
       "output_type": "stream",
       "stream": "stdout",
       "text": [
        "\n",
        "Measuring time for \"last_occ\" with pattern length 4"
       ]
      },
      {
       "output_type": "stream",
       "stream": "stdout",
       "text": [
        "\n",
        "Measuring time for \"last_occ\" with pattern length 7"
       ]
      },
      {
       "output_type": "stream",
       "stream": "stdout",
       "text": [
        "\n",
        "Measuring time for \"last_occ\" with pattern length 10"
       ]
      },
      {
       "output_type": "stream",
       "stream": "stdout",
       "text": [
        "\n",
        "Measuring time for \"last_occ\" with pattern length 13"
       ]
      },
      {
       "output_type": "stream",
       "stream": "stdout",
       "text": [
        "\n",
        "Measuring time for \"last_occ\" with pattern length 16"
       ]
      },
      {
       "output_type": "stream",
       "stream": "stdout",
       "text": [
        "\n",
        "Measuring time for \"last_occ\" with pattern length 19"
       ]
      },
      {
       "output_type": "stream",
       "stream": "stdout",
       "text": [
        "\n",
        "Measuring time for \"last_occ\" with pattern length 22"
       ]
      },
      {
       "output_type": "stream",
       "stream": "stdout",
       "text": [
        "\n",
        "Measuring time for \"last_occ\" with pattern length 25"
       ]
      },
      {
       "output_type": "stream",
       "stream": "stdout",
       "text": [
        "\n",
        "Measuring time for \"morris_pratt\" with pattern length 4"
       ]
      },
      {
       "output_type": "stream",
       "stream": "stdout",
       "text": [
        "\n",
        "Measuring time for \"morris_pratt\" with pattern length 7"
       ]
      },
      {
       "output_type": "stream",
       "stream": "stdout",
       "text": [
        "\n",
        "Measuring time for \"morris_pratt\" with pattern length 10"
       ]
      },
      {
       "output_type": "stream",
       "stream": "stdout",
       "text": [
        "\n",
        "Measuring time for \"morris_pratt\" with pattern length 13"
       ]
      },
      {
       "output_type": "stream",
       "stream": "stdout",
       "text": [
        "\n",
        "Measuring time for \"morris_pratt\" with pattern length 16"
       ]
      },
      {
       "output_type": "stream",
       "stream": "stdout",
       "text": [
        "\n",
        "Measuring time for \"morris_pratt\" with pattern length 19"
       ]
      },
      {
       "output_type": "stream",
       "stream": "stdout",
       "text": [
        "\n",
        "Measuring time for \"morris_pratt\" with pattern length 22"
       ]
      },
      {
       "output_type": "stream",
       "stream": "stdout",
       "text": [
        "\n",
        "Measuring time for \"morris_pratt\" with pattern length 25"
       ]
      },
      {
       "output_type": "stream",
       "stream": "stdout",
       "text": [
        "\n",
        "Measuring time for \"knuth_morris_pratt\" with pattern length 4"
       ]
      },
      {
       "output_type": "stream",
       "stream": "stdout",
       "text": [
        "\n",
        "Measuring time for \"knuth_morris_pratt\" with pattern length 7"
       ]
      },
      {
       "output_type": "stream",
       "stream": "stdout",
       "text": [
        "\n",
        "Measuring time for \"knuth_morris_pratt\" with pattern length 10"
       ]
      },
      {
       "output_type": "stream",
       "stream": "stdout",
       "text": [
        "\n",
        "Measuring time for \"knuth_morris_pratt\" with pattern length 13"
       ]
      },
      {
       "output_type": "stream",
       "stream": "stdout",
       "text": [
        "\n",
        "Measuring time for \"knuth_morris_pratt\" with pattern length 16"
       ]
      },
      {
       "output_type": "stream",
       "stream": "stdout",
       "text": [
        "\n",
        "Measuring time for \"knuth_morris_pratt\" with pattern length 19"
       ]
      },
      {
       "output_type": "stream",
       "stream": "stdout",
       "text": [
        "\n",
        "Measuring time for \"knuth_morris_pratt\" with pattern length 22"
       ]
      },
      {
       "output_type": "stream",
       "stream": "stdout",
       "text": [
        "\n",
        "Measuring time for \"knuth_morris_pratt\" with pattern length 25"
       ]
      },
      {
       "output_type": "stream",
       "stream": "stdout",
       "text": [
        "\n",
        "Measuring time for \"tobias_kmp\" with pattern length 4"
       ]
      },
      {
       "output_type": "stream",
       "stream": "stdout",
       "text": [
        "\n",
        "Measuring time for \"tobias_kmp\" with pattern length 7"
       ]
      },
      {
       "output_type": "stream",
       "stream": "stdout",
       "text": [
        "\n",
        "Measuring time for \"tobias_kmp\" with pattern length 10"
       ]
      },
      {
       "output_type": "stream",
       "stream": "stdout",
       "text": [
        "\n",
        "Measuring time for \"tobias_kmp\" with pattern length 13"
       ]
      },
      {
       "output_type": "stream",
       "stream": "stdout",
       "text": [
        "\n",
        "Measuring time for \"tobias_kmp\" with pattern length 16"
       ]
      },
      {
       "output_type": "stream",
       "stream": "stdout",
       "text": [
        "\n",
        "Measuring time for \"tobias_kmp\" with pattern length 19"
       ]
      },
      {
       "output_type": "stream",
       "stream": "stdout",
       "text": [
        "\n",
        "Measuring time for \"tobias_kmp\" with pattern length 22"
       ]
      },
      {
       "output_type": "stream",
       "stream": "stdout",
       "text": [
        "\n",
        "Measuring time for \"tobias_kmp\" with pattern length 25"
       ]
      },
      {
       "output_type": "stream",
       "stream": "stdout",
       "text": [
        "\n",
        "Measuring time for \"tobias_bm\" with pattern length 4"
       ]
      },
      {
       "output_type": "stream",
       "stream": "stdout",
       "text": [
        "\n",
        "Measuring time for \"tobias_bm\" with pattern length 7"
       ]
      },
      {
       "output_type": "stream",
       "stream": "stdout",
       "text": [
        "\n",
        "Measuring time for \"tobias_bm\" with pattern length 10"
       ]
      },
      {
       "output_type": "stream",
       "stream": "stdout",
       "text": [
        "\n",
        "Measuring time for \"tobias_bm\" with pattern length 13"
       ]
      },
      {
       "output_type": "stream",
       "stream": "stdout",
       "text": [
        "\n",
        "Measuring time for \"tobias_bm\" with pattern length 16"
       ]
      },
      {
       "output_type": "stream",
       "stream": "stdout",
       "text": [
        "\n",
        "Measuring time for \"tobias_bm\" with pattern length 19"
       ]
      },
      {
       "output_type": "stream",
       "stream": "stdout",
       "text": [
        "\n",
        "Measuring time for \"tobias_bm\" with pattern length 22"
       ]
      },
      {
       "output_type": "stream",
       "stream": "stdout",
       "text": [
        "\n",
        "Measuring time for \"tobias_bm\" with pattern length 25"
       ]
      },
      {
       "output_type": "stream",
       "stream": "stdout",
       "text": [
        "\n",
        "Measuring time for \"tobias_bmg\" with pattern length 4"
       ]
      },
      {
       "output_type": "stream",
       "stream": "stdout",
       "text": [
        "\n",
        "Measuring time for \"tobias_bmg\" with pattern length 7"
       ]
      },
      {
       "output_type": "stream",
       "stream": "stdout",
       "text": [
        "\n",
        "Measuring time for \"tobias_bmg\" with pattern length 10"
       ]
      },
      {
       "output_type": "stream",
       "stream": "stdout",
       "text": [
        "\n",
        "Measuring time for \"tobias_bmg\" with pattern length 13"
       ]
      },
      {
       "output_type": "stream",
       "stream": "stdout",
       "text": [
        "\n",
        "Measuring time for \"tobias_bmg\" with pattern length 16"
       ]
      },
      {
       "output_type": "stream",
       "stream": "stdout",
       "text": [
        "\n",
        "Measuring time for \"tobias_bmg\" with pattern length 19"
       ]
      },
      {
       "output_type": "stream",
       "stream": "stdout",
       "text": [
        "\n",
        "Measuring time for \"tobias_bmg\" with pattern length 22"
       ]
      },
      {
       "output_type": "stream",
       "stream": "stdout",
       "text": [
        "\n",
        "Measuring time for \"tobias_bmg\" with pattern length 25"
       ]
      },
      {
       "output_type": "stream",
       "stream": "stdout",
       "text": [
        "\n"
       ]
      }
     ],
     "prompt_number": 27
    },
    {
     "cell_type": "code",
     "collapsed": false,
     "input": [
      "m = measurements\n",
      "N = len(m['naive'])\n",
      "ind = np.arange(N)\n",
      "width = 1/len(m)\n",
      "bars =  []\n",
      "i = 0\n",
      "bars = []\n",
      "for alg in m:\n",
      "    avg = []\n",
      "    std = []\n",
      "    pat_lengths = [ _ for _ in m[alg] ]\n",
      "    pat_lengths.sort()\n",
      "    for pat_len in pat_lengths:\n",
      "        avg.append(m[alg][pat_len]['avg']*1000)\n",
      "        std.append(m[alg][pat_len]['std']*1000)\n",
      "    bars.append(plt.bar(ind+i*width, tuple(avg), width, yerr=tuple(std), color=cm.Set1(i/N, 1)))\n",
      "    plt.ylabel('milliseconds')\n",
      "    plt.xlabel('pattern length')\n",
      "    plt.xticks(ind+width/2., pat_lengths )\n",
      "    i+=1\n",
      "plt.legend(bars, [ _ for _ in m ], fontsize='xx-small', fancybox=True, shadow=True)\n",
      "plt.show()"
     ],
     "language": "python",
     "metadata": {},
     "outputs": [
      {
       "metadata": {},
       "output_type": "display_data",
       "png": "[encoded data removed]",
       "text": [
        "<matplotlib.figure.Figure at 0x7f528d83f710>"
       ]
      }
     ],
     "prompt_number": 28
    },
    {
     "cell_type": "code",
     "collapsed": false,
     "input": [
      "import cProfile\n",
      "cProfile.run(\"sm.search('abcabcd', 'abcasdafgasf'*10000+'d', sm.Algorithms.knuth_morris_pratt, True)\")"
     ],
     "language": "python",
     "metadata": {},
     "outputs": [
      {
       "output_type": "stream",
       "stream": "stdout",
       "text": [
        "         33 function calls in 0.064 seconds\n",
        "\n",
        "   Ordered by: standard name\n",
        "\n",
        "   ncalls  tottime  percall  cumtime  percall filename:lineno(function)\n",
        "        1    0.000    0.000    0.064    0.064 <string>:1(<module>)\n",
        "        5    0.000    0.000    0.000    0.000 enum.py:16(_is_dunder)\n",
        "        5    0.000    0.000    0.000    0.000 enum.py:241(__getattr__)\n",
        "        1    0.064    0.064    0.064    0.064 kmp.py:26(__kmp)\n",
        "        1    0.000    0.000    0.064    0.064 kmp.py:4(search)\n",
        "        1    0.000    0.000    0.000    0.000 kmp.py:47(compute_prefix)\n",
        "        1    0.000    0.000    0.000    0.000 kmp.py:83(__strong_border)\n",
        "        1    0.000    0.000    0.064    0.064 stringmatching.py:22(search)\n",
        "        1    0.000    0.000    0.064    0.064 {built-in method exec}\n",
        "        1    0.000    0.000    0.000    0.000 {built-in method isinstance}\n",
        "        7    0.000    0.000    0.000    0.000 {built-in method len}\n",
        "        7    0.000    0.000    0.000    0.000 {method 'append' of 'list' objects}\n",
        "        1    0.000    0.000    0.000    0.000 {method 'disable' of '_lsprof.Profiler' objects}\n",
        "\n",
        "\n"
       ]
      }
     ],
     "prompt_number": 29
    },
    {
     "cell_type": "markdown",
     "metadata": {},
     "source": [
      "## Search for periodic patterns in a periodic text"
     ]
    },
    {
     "cell_type": "code",
     "collapsed": false,
     "input": [
      "patterns = {}\n",
      "passes = 5\n",
      "abc = 'abcdefhijklmnopqrstuvwxyz'\n",
      "for pat_len in range(3, len(abc), 3):\n",
      "    patterns[pat_len] = abc[:pat_len]\n",
      "\n",
      "measurements = {}\n",
      "for alg in algs:\n",
      "    if alg is not algs.boyer_moore:\n",
      "        measurements[alg.name] = {}\n",
      "        for pat_len in sorted( _ for _ in patterns ):\n",
      "            measurements[alg.name][pat_len] = {\n",
      "                'min': sys.maxsize,\n",
      "                'max': 0,\n",
      "                'avg': sys.maxsize,\n",
      "            }\n",
      "            t = []\n",
      "            print('Measuring time for \"{}\" with pattern length {}'.format(alg.name, pat_len))\n",
      "            for pattern in patterns[pat_len]:\n",
      "                text = pattern * 10000 + 'z'\n",
      "                for _ in range(passes):\n",
      "                    start_time = time.perf_counter()\n",
      "                    sm.search(pattern, text, alg, True)\n",
      "                    end_time = time.perf_counter()\n",
      "                    duration = end_time - start_time\n",
      "                    t.append(duration)\n",
      "            measurements[alg.name][pat_len]['min'] = min(t)\n",
      "            measurements[alg.name][pat_len]['max'] = max(t)\n",
      "            avg = sum(t)/len(t)\n",
      "            measurements[alg.name][pat_len]['avg'] = avg\n",
      "            measurements[alg.name][pat_len]['std'] = sum([ (_ - avg)**2 for _ in t ])\n"
     ],
     "language": "python",
     "metadata": {},
     "outputs": [
      {
       "output_type": "stream",
       "stream": "stdout",
       "text": [
        "Measuring time for \"naive\" with pattern length 3\n",
        "Measuring time for \"naive\" with pattern length 6"
       ]
      },
      {
       "output_type": "stream",
       "stream": "stdout",
       "text": [
        "\n",
        "Measuring time for \"naive\" with pattern length 9"
       ]
      },
      {
       "output_type": "stream",
       "stream": "stdout",
       "text": [
        "\n",
        "Measuring time for \"naive\" with pattern length 12"
       ]
      },
      {
       "output_type": "stream",
       "stream": "stdout",
       "text": [
        "\n",
        "Measuring time for \"naive\" with pattern length 15"
       ]
      },
      {
       "output_type": "stream",
       "stream": "stdout",
       "text": [
        "\n",
        "Measuring time for \"naive\" with pattern length 18"
       ]
      },
      {
       "output_type": "stream",
       "stream": "stdout",
       "text": [
        "\n",
        "Measuring time for \"naive\" with pattern length 21"
       ]
      },
      {
       "output_type": "stream",
       "stream": "stdout",
       "text": [
        "\n",
        "Measuring time for \"naive\" with pattern length 24"
       ]
      },
      {
       "output_type": "stream",
       "stream": "stdout",
       "text": [
        "\n",
        "Measuring time for \"last_occ\" with pattern length 3"
       ]
      },
      {
       "output_type": "stream",
       "stream": "stdout",
       "text": [
        "\n",
        "Measuring time for \"last_occ\" with pattern length 6"
       ]
      },
      {
       "output_type": "stream",
       "stream": "stdout",
       "text": [
        "\n",
        "Measuring time for \"last_occ\" with pattern length 9"
       ]
      },
      {
       "output_type": "stream",
       "stream": "stdout",
       "text": [
        "\n",
        "Measuring time for \"last_occ\" with pattern length 12"
       ]
      },
      {
       "output_type": "stream",
       "stream": "stdout",
       "text": [
        "\n",
        "Measuring time for \"last_occ\" with pattern length 15"
       ]
      },
      {
       "output_type": "stream",
       "stream": "stdout",
       "text": [
        "\n",
        "Measuring time for \"last_occ\" with pattern length 18"
       ]
      },
      {
       "output_type": "stream",
       "stream": "stdout",
       "text": [
        "\n",
        "Measuring time for \"last_occ\" with pattern length 21"
       ]
      },
      {
       "output_type": "stream",
       "stream": "stdout",
       "text": [
        "\n",
        "Measuring time for \"last_occ\" with pattern length 24"
       ]
      },
      {
       "output_type": "stream",
       "stream": "stdout",
       "text": [
        "\n",
        "Measuring time for \"morris_pratt\" with pattern length 3"
       ]
      },
      {
       "output_type": "stream",
       "stream": "stdout",
       "text": [
        "\n",
        "Measuring time for \"morris_pratt\" with pattern length 6"
       ]
      },
      {
       "output_type": "stream",
       "stream": "stdout",
       "text": [
        "\n",
        "Measuring time for \"morris_pratt\" with pattern length 9"
       ]
      },
      {
       "output_type": "stream",
       "stream": "stdout",
       "text": [
        "\n",
        "Measuring time for \"morris_pratt\" with pattern length 12"
       ]
      },
      {
       "output_type": "stream",
       "stream": "stdout",
       "text": [
        "\n",
        "Measuring time for \"morris_pratt\" with pattern length 15"
       ]
      },
      {
       "output_type": "stream",
       "stream": "stdout",
       "text": [
        "\n",
        "Measuring time for \"morris_pratt\" with pattern length 18"
       ]
      },
      {
       "output_type": "stream",
       "stream": "stdout",
       "text": [
        "\n",
        "Measuring time for \"morris_pratt\" with pattern length 21"
       ]
      },
      {
       "output_type": "stream",
       "stream": "stdout",
       "text": [
        "\n",
        "Measuring time for \"morris_pratt\" with pattern length 24"
       ]
      },
      {
       "output_type": "stream",
       "stream": "stdout",
       "text": [
        "\n",
        "Measuring time for \"knuth_morris_pratt\" with pattern length 3"
       ]
      },
      {
       "output_type": "stream",
       "stream": "stdout",
       "text": [
        "\n",
        "Measuring time for \"knuth_morris_pratt\" with pattern length 6"
       ]
      },
      {
       "output_type": "stream",
       "stream": "stdout",
       "text": [
        "\n",
        "Measuring time for \"knuth_morris_pratt\" with pattern length 9"
       ]
      },
      {
       "output_type": "stream",
       "stream": "stdout",
       "text": [
        "\n",
        "Measuring time for \"knuth_morris_pratt\" with pattern length 12"
       ]
      },
      {
       "output_type": "stream",
       "stream": "stdout",
       "text": [
        "\n",
        "Measuring time for \"knuth_morris_pratt\" with pattern length 15"
       ]
      },
      {
       "output_type": "stream",
       "stream": "stdout",
       "text": [
        "\n",
        "Measuring time for \"knuth_morris_pratt\" with pattern length 18"
       ]
      },
      {
       "output_type": "stream",
       "stream": "stdout",
       "text": [
        "\n",
        "Measuring time for \"knuth_morris_pratt\" with pattern length 21"
       ]
      },
      {
       "output_type": "stream",
       "stream": "stdout",
       "text": [
        "\n",
        "Measuring time for \"knuth_morris_pratt\" with pattern length 24"
       ]
      },
      {
       "output_type": "stream",
       "stream": "stdout",
       "text": [
        "\n",
        "Measuring time for \"tobias_kmp\" with pattern length 3"
       ]
      },
      {
       "output_type": "stream",
       "stream": "stdout",
       "text": [
        "\n",
        "Measuring time for \"tobias_kmp\" with pattern length 6"
       ]
      },
      {
       "output_type": "stream",
       "stream": "stdout",
       "text": [
        "\n",
        "Measuring time for \"tobias_kmp\" with pattern length 9"
       ]
      },
      {
       "output_type": "stream",
       "stream": "stdout",
       "text": [
        "\n",
        "Measuring time for \"tobias_kmp\" with pattern length 12"
       ]
      },
      {
       "output_type": "stream",
       "stream": "stdout",
       "text": [
        "\n",
        "Measuring time for \"tobias_kmp\" with pattern length 15"
       ]
      },
      {
       "output_type": "stream",
       "stream": "stdout",
       "text": [
        "\n",
        "Measuring time for \"tobias_kmp\" with pattern length 18"
       ]
      },
      {
       "output_type": "stream",
       "stream": "stdout",
       "text": [
        "\n",
        "Measuring time for \"tobias_kmp\" with pattern length 21"
       ]
      },
      {
       "output_type": "stream",
       "stream": "stdout",
       "text": [
        "\n",
        "Measuring time for \"tobias_kmp\" with pattern length 24"
       ]
      },
      {
       "output_type": "stream",
       "stream": "stdout",
       "text": [
        "\n",
        "Measuring time for \"tobias_bm\" with pattern length 3"
       ]
      },
      {
       "output_type": "stream",
       "stream": "stdout",
       "text": [
        "\n",
        "Measuring time for \"tobias_bm\" with pattern length 6"
       ]
      },
      {
       "output_type": "stream",
       "stream": "stdout",
       "text": [
        "\n",
        "Measuring time for \"tobias_bm\" with pattern length 9"
       ]
      },
      {
       "output_type": "stream",
       "stream": "stdout",
       "text": [
        "\n",
        "Measuring time for \"tobias_bm\" with pattern length 12"
       ]
      },
      {
       "output_type": "stream",
       "stream": "stdout",
       "text": [
        "\n",
        "Measuring time for \"tobias_bm\" with pattern length 15"
       ]
      },
      {
       "output_type": "stream",
       "stream": "stdout",
       "text": [
        "\n",
        "Measuring time for \"tobias_bm\" with pattern length 18"
       ]
      },
      {
       "output_type": "stream",
       "stream": "stdout",
       "text": [
        "\n",
        "Measuring time for \"tobias_bm\" with pattern length 21"
       ]
      },
      {
       "output_type": "stream",
       "stream": "stdout",
       "text": [
        "\n",
        "Measuring time for \"tobias_bm\" with pattern length 24"
       ]
      },
      {
       "output_type": "stream",
       "stream": "stdout",
       "text": [
        "\n",
        "Measuring time for \"tobias_bmg\" with pattern length 3"
       ]
      },
      {
       "output_type": "stream",
       "stream": "stdout",
       "text": [
        "\n",
        "Measuring time for \"tobias_bmg\" with pattern length 6"
       ]
      },
      {
       "output_type": "stream",
       "stream": "stdout",
       "text": [
        "\n",
        "Measuring time for \"tobias_bmg\" with pattern length 9"
       ]
      },
      {
       "output_type": "stream",
       "stream": "stdout",
       "text": [
        "\n",
        "Measuring time for \"tobias_bmg\" with pattern length 12"
       ]
      },
      {
       "output_type": "stream",
       "stream": "stdout",
       "text": [
        "\n",
        "Measuring time for \"tobias_bmg\" with pattern length 15"
       ]
      },
      {
       "output_type": "stream",
       "stream": "stdout",
       "text": [
        "\n",
        "Measuring time for \"tobias_bmg\" with pattern length 18"
       ]
      },
      {
       "output_type": "stream",
       "stream": "stdout",
       "text": [
        "\n",
        "Measuring time for \"tobias_bmg\" with pattern length 21"
       ]
      },
      {
       "output_type": "stream",
       "stream": "stdout",
       "text": [
        "\n",
        "Measuring time for \"tobias_bmg\" with pattern length 24"
       ]
      },
      {
       "output_type": "stream",
       "stream": "stdout",
       "text": [
        "\n"
       ]
      }
     ],
     "prompt_number": 30
    },
    {
     "cell_type": "code",
     "collapsed": false,
     "input": [
      "m = measurements\n",
      "N = len(m['naive'])\n",
      "ind = np.arange(N)\n",
      "width = 1/len(m)\n",
      "bars =  []\n",
      "i = 0\n",
      "bars = []\n",
      "for alg in m:\n",
      "    avg = []\n",
      "    std = []\n",
      "    pat_lengths = [ _ for _ in m[alg] ]\n",
      "    pat_lengths.sort()\n",
      "    for pat_len in pat_lengths:\n",
      "        avg.append(m[alg][pat_len]['avg']*1000)\n",
      "        std.append(m[alg][pat_len]['std']*1000)\n",
      "    bars.append(plt.bar(ind+i*width, tuple(avg), width, yerr=tuple(std), color=cm.Set1(i/N, 1)))\n",
      "    plt.ylabel('milliseconds')\n",
      "    plt.xlabel('pattern length')\n",
      "    plt.xticks(ind+width/2., pat_lengths )\n",
      "    i+=1\n",
      "plt.legend(bars, [ _ for _ in m ], fontsize='xx-small', fancybox=True, shadow=True)\n",
      "plt.show()"
     ],
     "language": "python",
     "metadata": {},
     "outputs": [
      {
       "metadata": {},
       "output_type": "display_data",
       "png": "[encoded data removed]",
       "text": [
        "<matplotlib.figure.Figure at 0x7f52a410b780>"
       ]
      }
     ],
     "prompt_number": 31
    },
    {
     "cell_type": "code",
     "collapsed": false,
     "input": [],
     "language": "python",
     "metadata": {},
     "outputs": [],
     "prompt_number": 31
    }
   ],
   "metadata": {}
  }
 ]
}